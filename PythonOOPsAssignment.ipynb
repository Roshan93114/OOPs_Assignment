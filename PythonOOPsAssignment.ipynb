{
  "nbformat": 4,
  "nbformat_minor": 0,
  "metadata": {
    "colab": {
      "provenance": []
    },
    "kernelspec": {
      "name": "python3",
      "display_name": "Python 3"
    },
    "language_info": {
      "name": "python"
    }
  },
  "cells": [
    {
      "cell_type": "markdown",
      "source": [
        "#PYTHON OOPs ASSIGNMENT"
      ],
      "metadata": {
        "id": "IKX629zJ93xx"
      }
    },
    {
      "cell_type": "markdown",
      "source": [
        "##Q1. What is Object-Oriented Programming (OOP)?\n",
        "Ans- Object-Oriented Programming, or OOP, is a programming style that is based on the concept of “objects.” These objects can contain data, in the form of variables (called attributes), and code, in the form of functions (called methods). The main idea of OOP is to structure programs in a way that models real-world things and behaviors. OOP helps in organizing large and complex code in a simpler and reusable way. It improves code readability and allows programmers to build systems that are easier to manage and extend. The four main principles of OOP are:\n",
        "\n",
        "* Encapsulation – binding data and methods together\n",
        "\n",
        "* Abstraction – hiding unnecessary details\n",
        "\n",
        "* Inheritance – reusing code from one class to another\n",
        "\n",
        "* Polymorphism – using one function name in different ways\n",
        "\n",
        "For example, in a school management system, a “Student” object can have attributes like name, age, and grade, and methods like attend_class() and give_exam(). This helps make the code feel more real and understandable."
      ],
      "metadata": {
        "id": "msXQ5mBb99Cj"
      }
    },
    {
      "cell_type": "markdown",
      "source": [
        "##Q2. What is a class in OOP?\n",
        "Ans- A class in Object-Oriented Programming is like a blueprint or template for creating objects. It defines what properties (data/variables) and behaviors (methods/functions) an object will have. Just like a blueprint of a house can be used to build many similar houses, a class can be used to create multiple objects. The class doesn’t store any actual data; it only describes how the data should be structured. Once a class is defined, we can create multiple objects (also called instances) from it. These objects will have the properties and methods defined in the class. For example, consider a class called Car. It might have attributes like color, brand, and speed, and methods like drive() and brake(). From this class, we can create different car objects like Honda, Toyota, or BMW, each with their own values."
      ],
      "metadata": {
        "id": "w8uF6d2S-f_x"
      }
    },
    {
      "cell_type": "markdown",
      "source": [
        "##Q3. What is an object in OOP?\n",
        "Ans- An object is an instance of a class. It is a real-world entity that has some properties and can perform certain actions. When we create a class in OOP, we are just defining how something should be structured. When we use that class to create something, we are making an object. Objects hold actual values and can use the methods defined in their class. Each object is independent and has its own copy of data, but it shares the same structure as defined by the class. For example, if Dog is a class, then dog1 and dog2 can be two objects of that class. They both can bark, walk, and eat (methods), but one may be a Labrador and the other a German Shepherd (different attribute values)."
      ],
      "metadata": {
        "id": "cFv9L8Q9-nxx"
      }
    },
    {
      "cell_type": "markdown",
      "source": [
        "##Q4. What is the difference between abstraction and encapsulation?\n",
        "Ans- Abstraction and encapsulation are two key ideas in Object-Oriented Programming, but they serve different purposes. Abstraction is about hiding the internal details and only showing the necessary parts to the user. It helps in focusing on what an object does, rather than how it does it. For example, when you use a mobile phone, you press buttons to call, but you don’t need to know how the internal circuit works. Encapsulation is about binding the data and methods together into a single unit (class), and keeping some parts private so that they can’t be accessed directly from outside. This protects the data and ensures only safe interactions with the object. In simple words, abstraction is about hiding complexity, while encapsulation is about protecting data. Both are used to make code secure, clean, and easy to manage."
      ],
      "metadata": {
        "id": "ptcfIaYN-tD7"
      }
    },
    {
      "cell_type": "markdown",
      "source": [
        "##Q5. What are dunder methods in Python?\n",
        "Ans- Dunder methods in Python are special methods that start and end with double underscores (__).  The word \"dunder\" is short for double underscore. These methods are automatically called by Python in certain situations and allow us to define how our objects behave with operators or built-in functions. For example , __init__() is a dunder method used to initialize objects when they are created. Similarly, __str__() is used to define how the object should be printed as a string, and __add__() can be used to define how objects should be added using the + operator. Dunder methods help in operator overloading and making objects behave in a more natural or Pythonic way. For example, if we have a class Book, we can use __str__() to display book details nicely when we print the object."
      ],
      "metadata": {
        "id": "VOaJ07HA-zau"
      }
    },
    {
      "cell_type": "markdown",
      "source": [
        "##Q6. Explain the concept of inheritance in OOP.\n",
        "Ans- Inheritance is a feature in Object‑Oriented Programming that lets one class (called the child or derived class) reuse the code of another class (called the parent or base class). By inheriting, the child class automatically gets the parent’s attributes and methods, which saves us from writing the same code again. We can also add new features or change existing ones in the child class. This helps create a natural “is‑a” relationship and forms a clear class hierarchy. There are different types of inheritance such as single, multilevel, and multiple inheritance. When a program grows large, inheritance keeps it organized and reduces errors because any fix in the parent class is shared by all its children.\n",
        "Example: A Dog class inheriting from an Animal class automatically gets methods like eat() and sleep(), and can add its own method bark()."
      ],
      "metadata": {
        "id": "g-i3111s-6az"
      }
    },
    {
      "cell_type": "markdown",
      "source": [
        "##Q7. What is polymorphism in OOP?\n",
        "Ans- Polymorphism means “many forms.” In OOP, it allows the same method name to act differently on different classes. When we call that method on an object, the correct version runs based on the object’s actual class. This lets us write flexible code that works with different kinds of objects using a single interface. Polymorphism comes in two main forms: compile‑time (method overloading, more common in languages like Java) and run‑time (method overriding, common in Python). Because of polymorphism, we can store objects of different classes in the same list or call the same method in a loop and trust each object to handle itself properly.\n",
        "Example: Both Sparrow and Penguin classes have a fly() method, but Sparrow.fly() flaps wings while Penguin.fly() says it can’t fly."
      ],
      "metadata": {
        "id": "eVeV1-4F_Hwp"
      }
    },
    {
      "cell_type": "markdown",
      "source": [
        "##Q8. How is encapsulation achieved in Python?\n",
        "Ans- Encapsulation means bundling data (attributes) and code (methods) inside one class and keeping certain details hidden from the outside world. In Python, we use name conventions to control access. Attributes without underscores are public and can be reached directly. A single underscore (like _temp) signals that the attribute is protected and should be treated as internal. A double underscore (like __balance) makes the attribute private, and Python changes its name internally to prevent direct access. We then create public methods—often called getters and setters—to read or change these hidden attributes safely. This protects data from accidental changes and ensures that any modification happens through controlled methods where we can add checks.\n",
        "* Example: In a BankAccount class, __balance is private; money can be added only through deposit() and removed only through withdraw()."
      ],
      "metadata": {
        "id": "6co-41xi_LmB"
      }
    },
    {
      "cell_type": "markdown",
      "source": [
        "##Q9. What is a constructor in Python?\n",
        "ANs- A constructor is a special method that Python calls automatically each time we create a new object from a class. The constructor’s name is __init__. Inside __init__, we set up the object’s initial state by assigning values to its attributes or running any startup code. Because the constructor runs immediately upon object creation, it saves us from writing extra lines to initialize each object later. We can also pass arguments to the constructor to customize each object’s data on creation.\n",
        "* Example: In a Student class, __init__(self, name, roll) stores the student’s name and roll number right away when we write s = Student(\"Anita\", 37).\n",
        "\n"
      ],
      "metadata": {
        "id": "79eXIlpq_RmZ"
      }
    },
    {
      "cell_type": "markdown",
      "source": [
        "##Q10. What are class and static methods in Python?\n",
        "Ans- A class method is declared with the @classmethod decorator and takes cls (the class itself) as the first parameter. It can read or change class‑level variables that are shared by all objects. We call a class method using either the class name or an object. A static method is declared with @staticmethod and takes no automatic first argument (self or cls). It behaves like a regular function placed inside the class for logical grouping. Static methods can be called on the class or an object but cannot change class or instance data directly without extra parameters. Both methods help organise code: class methods work with class data; static methods provide utility functions related to the class.\n",
        "* Example:\n",
        "      \n",
        "               class MathTool:\n",
        "               count = 0\n",
        "              \n",
        "               @classmethod def increment_count(cls):\n",
        "               cls.count += 1    \n",
        "              \n",
        "               @staticmethod\n",
        "               def square(n):\n",
        "               return n * n         \n"
      ],
      "metadata": {
        "id": "lMku36ya_ZFN"
      }
    },
    {
      "cell_type": "markdown",
      "source": [
        "##Q11. What is method overloading in Python?\n",
        "Ans- Method overloading means having multiple methods in a class with the same name but different number or type of arguments. In some languages like Java or C++, method overloading is supported directly. But in Python, this is not possible in the traditional way. Python allows only the last defined method with the same name to stay active.\n",
        "However, we can achieve a similar effect using default arguments or variable-length arguments like *args and **kwargs. This lets one method behave differently based on how many arguments we pass.\n",
        "* Example:\n",
        "              class Calculator:\n",
        "                def add(self, a, b=0, c=0):\n",
        "                 return a + b + c\n"
      ],
      "metadata": {
        "id": "xjeFhWNJ_8pi"
      }
    },
    {
      "cell_type": "markdown",
      "source": [
        "##Q12. What is method overriding in OOP?\n",
        "Ans- Method overriding means defining a method in the child class that already exists in the parent class, but changing its behavior. This is a part of runtime polymorphism. When we call the method using an object of the child class, Python will run the overridden method, not the one in the parent class.\n",
        "This helps when the parent class gives a general method, but the child class needs to make it more specific.\n",
        "* Example:\n",
        "            class Animal:\n",
        "            def speak(self):\n",
        "            print(\"Animal sound\")\n",
        "            \n",
        "            class Dog(Animal):\n",
        "             def speak(self):\n",
        "              print(\"Bark!\")\n"
      ],
      "metadata": {
        "id": "TGufLCSPANC0"
      }
    },
    {
      "cell_type": "markdown",
      "source": [
        "##Q13. What is a property decorator in Python?\n",
        "Ans- In Python, the @property decorator is used to turn a method into a readable attribute. This means we can access the method like a variable, without using parentheses. It is mainly used when we want to keep a variable protected or private and still allow controlled access to it.\n",
        "We can also use @<property>.setter to allow changes to the value, while keeping full control over how it is changed.\n",
        "* Example:\n",
        "            class Student:\n",
        "             def __init__(self, marks):\n",
        "              self._marks = marks\n",
        "                \n",
        "                @property\n",
        "                def marks(self):\n",
        "                 return self._marks\n"
      ],
      "metadata": {
        "id": "cKdTEaL6Abjk"
      }
    },
    {
      "cell_type": "markdown",
      "source": [
        "##Q14. Why is polymorphism important in OOP?\n",
        "Ans- Polymorphism allows the same method or function name to behave differently based on the object or data type it's acting on. It increases flexibility in code because we can use the same interface for different types of objects.\n",
        "This makes programs easier to extend and maintain. We don’t have to write separate functions for every type—we just write one, and trust each object to behave correctly on its own.\n",
        "* Example: A function make_sound(animal) can call animal.sound() and it will work whether the object is a Dog, Cat, or Cow."
      ],
      "metadata": {
        "id": "bF7wR7dVAvwU"
      }
    },
    {
      "cell_type": "markdown",
      "source": [
        "##Q15. What is an abstract class in Python?\n",
        "Ans- An abstract class is a class that cannot be used to create objects directly. It acts like a blueprint for other classes. It contains one or more abstract methods that do not have any code in them. These methods must be defined in the child class.\n",
        "In Python, we create an abstract class using the abc module and @abstractmethod decorator. This ensures that any class inheriting from it must implement the required methods.\n",
        "* Example:\n",
        "            from abc import ABC, abstractmethod\n",
        "            \n",
        "            class Animal(ABC):\n",
        "             @abstractmethod\n",
        "              def sound(self):\n",
        "                 pass\n"
      ],
      "metadata": {
        "id": "AOW515gZA3qM"
      }
    },
    {
      "cell_type": "markdown",
      "source": [
        "##Q16. What are the advantages of OOP?\n",
        "Ans- Object-Oriented Programming (OOP) helps in organizing code by grouping related data and functions into objects. It improves readability, makes code reusable, and helps manage complex programs easily.\n",
        "  Some main advantages include:\n",
        "\n",
        "* Modularity – Code is divided into smaller parts (classes and objects).\n",
        "\n",
        "* Reusability – You can reuse existing code using inheritance.\n",
        "\n",
        "* Security – Data is protected using encapsulation.\n",
        "\n",
        "* Flexibility – Polymorphism allows one function to work with different objects.\n",
        "\n",
        "* Easy Maintenance – Fixing or updating one part doesn't break the whole program."
      ],
      "metadata": {
        "id": "E7RSc8tGBCTS"
      }
    },
    {
      "cell_type": "markdown",
      "source": [
        "##Q17. What is the difference between a class variable and an instance variable?\n",
        "Ans- A class variable is shared by all objects of the class. If you change it in one object, the change is reflected in all other objects.\n",
        "An instance variable is unique for each object. It stores data that belongs only to that object.\n",
        "\n",
        "* Example:\n",
        "          class Student:\n",
        "          school = \"DPS\"  # class variable\n",
        "          def __init__(self, name):\n",
        "            self.name = name  # instance variable\n",
        "Here, school is the same for all students, but name is different for each."
      ],
      "metadata": {
        "id": "ioMQQnO0BQUR"
      }
    },
    {
      "cell_type": "markdown",
      "source": [
        "##Q18. What is multiple inheritance in Python?\n",
        "Ans- Multiple inheritance means that a class can inherit features from more than one parent class. This allows a child class to combine the behaviors of all parent classes. Python supports multiple inheritance directly. However, it can lead to confusion if multiple parents have methods with the same name. Python solves this using a system called MRO (Method Resolution Order)\n",
        "* Example:\n",
        "                  class A:\n",
        "                  def show(self):\n",
        "                   print(\"A\")\n",
        "                   \n",
        "                   class B:\n",
        "                    def display(self):\n",
        "                      print(\"B\")\n",
        "                      \n",
        "                      class C(A, B):\n",
        "                       pass\n"
      ],
      "metadata": {
        "id": "IUeCiO8_Bf0w"
      }
    },
    {
      "cell_type": "markdown",
      "source": [
        "##Q19. Explain the purpose of __str__ and __repr__ methods in Python.\n",
        "Ans- Both __str__ and __repr__ are special methods used to return a string representation of an object.\n",
        "\n",
        "    __str__ is used when we print the object. It should return a readable, user-friendly string.\n",
        "\n",
        "    __repr__ is used for debugging and should return a more detailed string that can be used to recreate the object.\n",
        "\n",
        "    - Example:\n",
        "                class Book:\n",
        "                def __str__(self):\n",
        "                  return \"Book name\"\n",
        "                  \n",
        "                  def __repr__(self):\n",
        "                     return \"Book('Book name')\"\n"
      ],
      "metadata": {
        "id": "Cnz7tPimBvHd"
      }
    },
    {
      "cell_type": "markdown",
      "source": [
        "##Q20. What is the significance of the super() function in Python?\n",
        "Ans- The super() function is used in inheritance to call methods from the parent class. It is especially useful when the child class overrides methods of the parent. It avoids repeating code and helps in maintaining proper method order in multiple inheritance situations.\n",
        "      - Example:\n",
        "                  class Parent:\n",
        "                  def greet(self):\n",
        "                     print(\"Hello from Parent\")\n",
        "                     \n",
        "                     class Child(Parent):\n",
        "                       def greet(self):\n",
        "                        super().greet()\n",
        "                         print(\"Hello from Child\")\n"
      ],
      "metadata": {
        "id": "XGOYijRnB-sW"
      }
    },
    {
      "cell_type": "markdown",
      "source": [
        "##Q21. What is the significance of the __del__ method in Python?\n",
        "Ans- The __del__ method is a special method in Python, also known as a destructor. It is called automatically when an object is about to be destroyed or deleted from memory.This method is used to perform clean-up actions like closing files, releasing memory, or closing database connections. However, using __del__ is not very common in modern Python, as garbage collection handles memory well.\n",
        "       - Example:\n",
        "                  class Demo:\n",
        "                   def __del__(self):\n",
        "                     print(\"Object is being destroyed\")\n"
      ],
      "metadata": {
        "id": "ktudYvqACXun"
      }
    },
    {
      "cell_type": "markdown",
      "source": [
        "##Q22. What is the difference between @staticmethod and @classmethod in Python?\n",
        "Ans- A static method does not take any reference to the class or object. It behaves like a regular function placed inside a class for better organization\n",
        "  - A class method takes cls as the first argument, which refers to the class itself. It can access or modify class-level data.\n",
        "    - Example:\n",
        "                class Demo:\n",
        "                @staticmethod\n",
        "                 def greet():\n",
        "                   print(\"Hello!\")\n",
        "                   \n",
        "                   @classmethod\n",
        "                    def show(cls):\n",
        "                      print(\"This is a class method\")\n"
      ],
      "metadata": {
        "id": "6QXyH-_DCk4R"
      }
    },
    {
      "cell_type": "markdown",
      "source": [
        "##Q23. How does polymorphism work in Python with inheritance?\n",
        "Ans- Polymorphism means “one interface, many forms.” In Python, it shows up when different child classes inherit the same parent and override a common method.\n",
        "A piece of code can then call that method on any object from the family without caring about its exact class.\n",
        "At run time, Python looks at the object’s real class and picks the correct overridden method—a process called dynamic dispatch.\n",
        "This lets us write flexible loops that treat mixed objects uniformly, improving code reuse and readability.\n",
        "Polymorphism also appears in built‑in functions like len(), which works on strings, lists, and dictionaries because each type provides its own __len__ method.\n",
        "Unlike languages that need method overloading, Python leans on duck typing: “if it walks like a duck and quacks like a duck, treat it as a duck.”\n",
        "So long as the required method exists, polymorphism works, even without a shared parent class—though inheritance keeps things organized.\n",
        "Overall, polymorphism reduces if‑else chains, makes code shorter, and supports open‑ended design where new classes plug in easily."
      ],
      "metadata": {
        "id": "5qjgIYwtDK3r"
      }
    },
    {
      "cell_type": "markdown",
      "source": [
        "##Q24. What is method chaining in Python OOP?\n",
        "Ans- Method chaining is a technique where multiple methods are called one after another in a single line of code. This is possible when each method returns the object itself (self). It makes the code shorter and cleaner.\n",
        "      - Example:\n",
        "              class Person:\n",
        "              def set_name(self, name):\n",
        "               self.name = name\n",
        "               return self\n",
        "               \n",
        "                def set_age(self, age):\n",
        "                  self.age = age\n",
        "                  return self\n",
        "                  \n",
        "                  p = Person().set_name(\"Ravi\").set_age(22)\n"
      ],
      "metadata": {
        "id": "T3e0fzXGDfiq"
      }
    },
    {
      "cell_type": "markdown",
      "source": [
        "##Q25. What is the purpose of the _ _call_ _ method in Python?\n",
        "Ans-  __call__ is a special (dunder) method that allows an object to behave like a function.\n",
        "When we place parentheses after an object—obj()—Python checks whether the class defines __call__.\n",
        "If it does, that method runs, letting us execute custom code as though the object itself were a function.\n",
        "This feature is handy for making configurable function objects or lightweight stateful decorators.\n",
        "For instance, we can store settings in the object during __init__ and then do calculations each time __call__ is used.\n",
        "Since __call__ receives self, it can access and update the object’s internal state on every call, giving us more control than plain functions.\n",
        "Frameworks like TensorFlow and PyTorch rely on __call__ to let model objects act like prediction functions.\n",
        "Using __call__ keeps syntax clean while allowing objects to encapsulate both data and callable behavior."
      ],
      "metadata": {
        "id": "3KMY45_kEBRu"
      }
    },
    {
      "cell_type": "markdown",
      "source": [
        "#Practical Questions"
      ],
      "metadata": {
        "id": "4ROh3FE8nvbz"
      }
    },
    {
      "cell_type": "markdown",
      "source": [
        "##Q1 : Create a parent class Animal with a method speak() that prints a generic message.Create a child class Dog that overrides the speak() method to print \"Bark!\"."
      ],
      "metadata": {
        "id": "IymoGw4TlLDv"
      }
    },
    {
      "cell_type": "code",
      "source": [
        "class Animal:\n",
        "    def speak(self):\n",
        "        print(\"The animal makes a sound.\")\n",
        "\n",
        "class Dog(Animal):\n",
        "    def speak(self):\n",
        "        print(\"Bark!\")\n",
        "\n",
        "generic_animal = Animal()\n",
        "generic_animal.speak()\n",
        "dog = Dog()\n",
        "dog.speak()"
      ],
      "metadata": {
        "colab": {
          "base_uri": "https://localhost:8080/"
        },
        "id": "qQKO4lTwlTZ7",
        "outputId": "f4324797-df0f-4907-c5d9-ed42cdcc9e09"
      },
      "execution_count": 2,
      "outputs": [
        {
          "output_type": "stream",
          "name": "stdout",
          "text": [
            "The animal makes a sound.\n",
            "Bark!\n"
          ]
        }
      ]
    },
    {
      "cell_type": "markdown",
      "source": [
        "## Q2: Write a program to create an abstract class Shape with a method area().Derive classes Circle and Rectangle from it and implement the area() method in both."
      ],
      "metadata": {
        "id": "qjAGpFtSlX6Y"
      }
    },
    {
      "cell_type": "markdown",
      "source": [
        "\n",
        "\n",
        "---\n",
        "\n"
      ],
      "metadata": {
        "id": "-k_-sCM-ELke"
      }
    },
    {
      "cell_type": "code",
      "source": [
        "from abc import ABC, abstractmethod\n",
        "import math\n",
        "\n",
        "class Shape(ABC):\n",
        "    @abstractmethod\n",
        "    def area(self):\n",
        "        \"\"\"Return the area of the shape.\"\"\"\n",
        "        pass\n",
        "\n",
        "class Circle(Shape):\n",
        "    def __init__(self, radius):\n",
        "        self.radius = radius\n",
        "\n",
        "    def area(self):\n",
        "        return math.pi * (self.radius ** 2)\n",
        "\n",
        "class Rectangle(Shape):\n",
        "    def __init__(self, length, width):\n",
        "        self.length = length\n",
        "        self.width = width\n",
        "\n",
        "    def area(self):\n",
        "        return self.length * self.width\n",
        "\n",
        "\n",
        "c = Circle(radius=5)\n",
        "print(\"Area of circle:\", c.area())\n",
        "r = Rectangle(length=4, width=6)\n",
        "print(\"Area of rectangle:\", r.area())\n"
      ],
      "metadata": {
        "colab": {
          "base_uri": "https://localhost:8080/"
        },
        "id": "PobnH8d2Gbt9",
        "outputId": "5416e2f7-6dcb-4dbc-cfba-ef6de626ad2a"
      },
      "execution_count": 19,
      "outputs": [
        {
          "output_type": "stream",
          "name": "stdout",
          "text": [
            "Area of circle: 78.53981633974483\n",
            "Area of rectangle: 24\n"
          ]
        }
      ]
    },
    {
      "cell_type": "markdown",
      "source": [
        "##Q3: Implement a multi-level inheritance scenario where a class Vehicle has an attribute `type`. Derive a class Car and further derive a class ElectricCar that adds a `battery` attribute."
      ],
      "metadata": {
        "id": "ddWsGMxSlfSx"
      }
    },
    {
      "cell_type": "code",
      "source": [
        "class Vehicle:\n",
        "    def __init__(self, v_type):\n",
        "        self.type = v_type\n",
        "\n",
        "class Car(Vehicle):\n",
        "    def __init__(self, v_type, model):\n",
        "        super().__init__(v_type)\n",
        "        self.model = model\n",
        "\n",
        "class ElectricCar(Car):\n",
        "    def __init__(self, v_type, model, battery):\n",
        "        super().__init__(v_type, model)\n",
        "        self.battery = battery\n",
        "\n",
        "ecar = ElectricCar(\"Land\", \"Hatchback\", \"75 kWh\")\n",
        "print(f\"Type: {ecar.type}, Model: {ecar.model}, Battery: {ecar.battery}\")\n",
        "\n"
      ],
      "metadata": {
        "colab": {
          "base_uri": "https://localhost:8080/"
        },
        "id": "0sgEeJu0GnKF",
        "outputId": "fefee288-0fa5-4532-f8c1-54305ef2ce77"
      },
      "execution_count": 18,
      "outputs": [
        {
          "output_type": "stream",
          "name": "stdout",
          "text": [
            "Type: Land, Model: Hatchback, Battery: 75 kWh\n"
          ]
        }
      ]
    },
    {
      "cell_type": "markdown",
      "source": [
        "##Q4: Demonstrate polymorphism by creating a base class Bird with a method fly().Create two derived classes Sparrow and Penguin that override the fly() method."
      ],
      "metadata": {
        "id": "zp048A20ll0S"
      }
    },
    {
      "cell_type": "code",
      "source": [
        "class Bird:\n",
        "    def fly(self):\n",
        "        print(\"Some birds can fly.\")\n",
        "\n",
        "class Sparrow(Bird):\n",
        "    def fly(self):\n",
        "        print(\"Sparrow flies high in the sky.\")\n",
        "\n",
        "class Penguin(Bird):\n",
        "    def fly(self):\n",
        "        print(\"Penguins cannot fly, they swim instead.\")\n",
        "\n",
        "birds = [Sparrow(), Penguin()]\n",
        "\n",
        "for bird in birds:\n",
        "    bird.fly()\n",
        "\n",
        "\n"
      ],
      "metadata": {
        "colab": {
          "base_uri": "https://localhost:8080/"
        },
        "id": "wtDbsEh8HBOl",
        "outputId": "fddc855f-5c45-46f3-9344-41e42126df4b"
      },
      "execution_count": 17,
      "outputs": [
        {
          "output_type": "stream",
          "name": "stdout",
          "text": [
            "Sparrow flies high in the sky.\n",
            "Penguins cannot fly, they swim instead.\n"
          ]
        }
      ]
    },
    {
      "cell_type": "markdown",
      "source": [
        "##Q5: Write a program to demonstrate encapsulation by creating a class BankAccount with private attributes balance and methods to deposit, withdraw, and check balance."
      ],
      "metadata": {
        "id": "GyHp7GaJlvjp"
      }
    },
    {
      "cell_type": "code",
      "source": [
        "class BankAccount:\n",
        "    def __init__(self, initial_balance=0):\n",
        "        self.__balance = initial_balance   # private attribute\n",
        "\n",
        "    def deposit(self, amount):\n",
        "        if amount > 0:\n",
        "            self.__balance += amount\n",
        "            print(f\"Deposited ₹{amount}.\")\n",
        "        else:\n",
        "            print(\"Deposit amount must be positive.\")\n",
        "\n",
        "    def withdraw(self, amount):\n",
        "        if amount <= 0:\n",
        "            print(\"Withdrawal amount must be positive.\")\n",
        "        elif amount > self.__balance:\n",
        "            print(\"Insufficient funds.\")\n",
        "        else:\n",
        "            self.__balance -= amount\n",
        "            print(f\"Withdrew ₹{amount}.\")\n",
        "\n",
        "    def check_balance(self):\n",
        "        return self.__balance\n",
        "\n",
        "account = BankAccount(1000)\n",
        "account.deposit(500)\n",
        "account.withdraw(300)\n",
        "print(\"Current balance:\", account.check_balance())\n"
      ],
      "metadata": {
        "colab": {
          "base_uri": "https://localhost:8080/"
        },
        "id": "F8Ecw7ruHLCX",
        "outputId": "3ec0d948-b1ff-446e-a5b2-7f9cb451ef1a"
      },
      "execution_count": 16,
      "outputs": [
        {
          "output_type": "stream",
          "name": "stdout",
          "text": [
            "Deposited ₹500.\n",
            "Withdrew ₹300.\n",
            "Current balance: 1200\n"
          ]
        }
      ]
    },
    {
      "cell_type": "markdown",
      "source": [
        "##Q6: Demonstrate runtime polymorphism using a method play() in a base class Instrument. Derive classes Guitar and Piano that implement their own version of play()."
      ],
      "metadata": {
        "id": "vOscgrLllzQb"
      }
    },
    {
      "cell_type": "code",
      "source": [
        "class Instrument:\n",
        "    def play(self):\n",
        "        print(\"Instrument is playing.\")\n",
        "\n",
        "class Guitar(Instrument):\n",
        "    def play(self):\n",
        "        print(\"Guitar is strumming.\")\n",
        "\n",
        "class Piano(Instrument):\n",
        "    def play(self):\n",
        "        print(\"Piano is playing melody.\")\n",
        "\n",
        "instruments = [Guitar(), Piano()]\n",
        "\n",
        "for instrument in instruments:\n",
        "    instrument.play()\n"
      ],
      "metadata": {
        "colab": {
          "base_uri": "https://localhost:8080/"
        },
        "id": "MXc8DAj6HdWA",
        "outputId": "f28b4a96-5fb4-40e0-b38d-ed96a914bbf5"
      },
      "execution_count": 15,
      "outputs": [
        {
          "output_type": "stream",
          "name": "stdout",
          "text": [
            "Guitar is strumming.\n",
            "Piano is playing melody.\n"
          ]
        }
      ]
    },
    {
      "cell_type": "markdown",
      "source": [
        "##Q7: Create a class MathOperations with a class method add_numbers() to add two numbers and a static method subtract_numbers() to subtract two numbers."
      ],
      "metadata": {
        "id": "m2HQN1ffl34K"
      }
    },
    {
      "cell_type": "code",
      "source": [
        "class MathOperations:\n",
        "    @classmethod\n",
        "    def add_numbers(cls, a, b):\n",
        "        return a + b\n",
        "\n",
        "    @staticmethod\n",
        "    def subtract_numbers(a, b):\n",
        "        return a - b\n",
        "\n",
        "print(MathOperations.add_numbers(10, 5))      # 15\n",
        "print(MathOperations.subtract_numbers(10, 5)) # 5\n"
      ],
      "metadata": {
        "colab": {
          "base_uri": "https://localhost:8080/"
        },
        "id": "nGusOglPHiP9",
        "outputId": "ce687879-cd59-4cc9-fe4e-3c5159781c5e"
      },
      "execution_count": 14,
      "outputs": [
        {
          "output_type": "stream",
          "name": "stdout",
          "text": [
            "15\n",
            "5\n"
          ]
        }
      ]
    },
    {
      "cell_type": "markdown",
      "source": [
        "##Q8: Implement a class Person with a class method to count the total number of persons created."
      ],
      "metadata": {
        "id": "fhKUJpSNl7gx"
      }
    },
    {
      "cell_type": "code",
      "source": [
        "class Person:\n",
        "    count = 0\n",
        "\n",
        "    def __init__(self, name):\n",
        "        self.name = name\n",
        "        Person.count += 1\n",
        "\n",
        "    @classmethod\n",
        "    def get_total_persons(cls):\n",
        "        return cls.count\n",
        "\n",
        "p1 = Person(\"Alice\")\n",
        "p2 = Person(\"Bob\")\n",
        "p3 = Person(\"Charlie\")\n",
        "\n",
        "print(\"Total persons created:\", Person.get_total_persons())\n"
      ],
      "metadata": {
        "colab": {
          "base_uri": "https://localhost:8080/"
        },
        "id": "Z6zcqvB0Hr3l",
        "outputId": "f5dfdda7-f0eb-4042-9fea-d10bcbcfa9c6"
      },
      "execution_count": 13,
      "outputs": [
        {
          "output_type": "stream",
          "name": "stdout",
          "text": [
            "Total persons created: 3\n"
          ]
        }
      ]
    },
    {
      "cell_type": "markdown",
      "source": [
        "##Q9: Write a class Fraction with attributes numerator and denominator. Override the __str__ method to display the fraction as \"numerator/denominator\"."
      ],
      "metadata": {
        "id": "RFtSD3oCmAlp"
      }
    },
    {
      "cell_type": "code",
      "source": [
        "class Fraction:\n",
        "    def __init__(self, numerator, denominator):\n",
        "        self.numerator = numerator\n",
        "        self.denominator = denominator\n",
        "\n",
        "    def __str__(self):\n",
        "        return f\"{self.numerator}/{self.denominator}\"\n",
        "\n",
        "\n",
        "f = Fraction(3, 4)\n",
        "print(f)\n"
      ],
      "metadata": {
        "colab": {
          "base_uri": "https://localhost:8080/"
        },
        "id": "ZG2H8rfgH4QT",
        "outputId": "b765a93d-8859-42cf-d60f-5d8ff738a489"
      },
      "execution_count": 12,
      "outputs": [
        {
          "output_type": "stream",
          "name": "stdout",
          "text": [
            "3/4\n"
          ]
        }
      ]
    },
    {
      "cell_type": "markdown",
      "source": [
        "##Q10: Demonstrate operator overloading by creating a class Vector and overriding the add method to add two vectors."
      ],
      "metadata": {
        "id": "GHbLJk81mD63"
      }
    },
    {
      "cell_type": "code",
      "source": [
        "class Vector:\n",
        "    def __init__(self, x, y):\n",
        "        self.x = x\n",
        "        self.y = y\n",
        "\n",
        "    def __add__(self, other):\n",
        "        if isinstance(other, Vector):\n",
        "            return Vector(self.x + other.x, self.y + other.y)\n",
        "        return NotImplemented\n",
        "\n",
        "    def __str__(self):\n",
        "        return f\"({self.x}, {self.y})\"\n",
        "\n",
        "v1 = Vector(2, 3)\n",
        "v2 = Vector(4, 5)\n",
        "v3 = v1 + v2\n",
        "print(v3)  # (6, 8)\n"
      ],
      "metadata": {
        "colab": {
          "base_uri": "https://localhost:8080/"
        },
        "id": "nc1AAORcH9G-",
        "outputId": "77d6eac5-c607-4a05-e489-68e71c2362aa"
      },
      "execution_count": 11,
      "outputs": [
        {
          "output_type": "stream",
          "name": "stdout",
          "text": [
            "(6, 8)\n"
          ]
        }
      ]
    },
    {
      "cell_type": "markdown",
      "source": [
        "##Q11 : Create a class Person with attributes name and age. Add a method greet() that prints \"Hello, my name is {name} and I am {age} years old.\""
      ],
      "metadata": {
        "id": "yJ7wL3L5mYuo"
      }
    },
    {
      "cell_type": "code",
      "source": [
        "class Person:\n",
        "    def __init__(self, name, age):\n",
        "        self.name = name\n",
        "        self.age = age\n",
        "\n",
        "    def greet(self):\n",
        "        print(f\"Hello, my name is {self.name} and I am {self.age} years old.\")\n",
        "\n",
        "\n",
        "p = Person(\"Pranav\", 22)\n",
        "p.greet()\n"
      ],
      "metadata": {
        "colab": {
          "base_uri": "https://localhost:8080/"
        },
        "id": "H3ckOSsrIEnR",
        "outputId": "81131488-cf47-4545-c56d-7981c6b8592c"
      },
      "execution_count": 10,
      "outputs": [
        {
          "output_type": "stream",
          "name": "stdout",
          "text": [
            "Hello, my name is Pranav and I am 22 years old.\n"
          ]
        }
      ]
    },
    {
      "cell_type": "markdown",
      "source": [
        "##Q12: Implement a class Student with attributes name and grades. Create a method average_grade() to compute the average of the grades."
      ],
      "metadata": {
        "id": "p9u-kH9BmcMa"
      }
    },
    {
      "cell_type": "code",
      "source": [
        "class Student:\n",
        "    def __init__(self, name, grades):\n",
        "        self.name = name\n",
        "        self.grades = grades  # list of numerical grades\n",
        "\n",
        "    def average_grade(self):\n",
        "        return sum(self.grades) / len(self.grades) if self.grades else 0\n",
        "\n",
        "\n",
        "s = Student(\"Pranav\", [85, 90, 78, 92])\n",
        "print(s.average_grade())  # 86.25\n"
      ],
      "metadata": {
        "colab": {
          "base_uri": "https://localhost:8080/"
        },
        "id": "hw-mwxiNILI0",
        "outputId": "640e1fef-5cdf-451b-8c9a-063285ef5b36"
      },
      "execution_count": 9,
      "outputs": [
        {
          "output_type": "stream",
          "name": "stdout",
          "text": [
            "86.25\n"
          ]
        }
      ]
    },
    {
      "cell_type": "markdown",
      "source": [
        "##Q13: Create a class Rectangle with methods set_dimensions() to set the dimensions and area() to calculate the area."
      ],
      "metadata": {
        "id": "Z6QFyRaWmfUZ"
      }
    },
    {
      "cell_type": "code",
      "source": [
        "class Rectangle:\n",
        "    def __init__(self):\n",
        "        self.length = 0\n",
        "        self.width = 0\n",
        "\n",
        "    def set_dimensions(self, length, width):\n",
        "        self.length = length\n",
        "        self.width = width\n",
        "\n",
        "    def area(self):\n",
        "        return self.length * self.width\n",
        "\n",
        "\n",
        "r = Rectangle()\n",
        "r.set_dimensions(5, 4)\n",
        "print(r.area())  # 20\n"
      ],
      "metadata": {
        "colab": {
          "base_uri": "https://localhost:8080/"
        },
        "id": "v17L7D9vISqn",
        "outputId": "c2a08b52-88cf-415d-a09e-2f6661a56663"
      },
      "execution_count": 8,
      "outputs": [
        {
          "output_type": "stream",
          "name": "stdout",
          "text": [
            "20\n"
          ]
        }
      ]
    },
    {
      "cell_type": "markdown",
      "source": [
        "##Q14: Create a class Employee with a method calculate_salary() that computes the salary based on hours worked and hourly rate. Create a derived class Manager that adds a bonus to the salary."
      ],
      "metadata": {
        "id": "gAs1RhTEmh5B"
      }
    },
    {
      "cell_type": "code",
      "source": [
        "class Employee:\n",
        "    def __init__(self, hours_worked, hourly_rate):\n",
        "        self.hours_worked = hours_worked\n",
        "        self.hourly_rate = hourly_rate\n",
        "\n",
        "    def calculate_salary(self):\n",
        "        return self.hours_worked * self.hourly_rate\n",
        "\n",
        "\n",
        "class Manager(Employee):\n",
        "    def __init__(self, hours_worked, hourly_rate, bonus):\n",
        "        super().__init__(hours_worked, hourly_rate)\n",
        "        self.bonus = bonus\n",
        "\n",
        "    def calculate_salary(self):\n",
        "        return super().calculate_salary() + self.bonus\n",
        "\n",
        "\n",
        "e = Employee(40, 500)\n",
        "m = Manager(40, 500, 10000)\n",
        "\n",
        "print(e.calculate_salary())\n",
        "print(m.calculate_salary())\n"
      ],
      "metadata": {
        "colab": {
          "base_uri": "https://localhost:8080/"
        },
        "id": "ekaBazCuIXbo",
        "outputId": "b0685ac9-2e32-4291-be92-12b6d2dc6329"
      },
      "execution_count": 7,
      "outputs": [
        {
          "output_type": "stream",
          "name": "stdout",
          "text": [
            "20000\n",
            "30000\n"
          ]
        }
      ]
    },
    {
      "cell_type": "markdown",
      "source": [
        "##Q15: Create a class Product with attributes name, price, and quantity.Implement a method total_price() that calculates the total price of the product."
      ],
      "metadata": {
        "id": "IVazGBwDmla4"
      }
    },
    {
      "cell_type": "code",
      "source": [
        "class Product:\n",
        "    def __init__(self, name, price, quantity):\n",
        "        self.name = name\n",
        "        self.price = price\n",
        "        self.quantity = quantity\n",
        "\n",
        "    def total_price(self):\n",
        "        return self.price * self.quantity\n",
        "\n",
        "\n",
        "p = Product(\"Pen\", 10, 5)\n",
        "print(p.total_price())\n"
      ],
      "metadata": {
        "colab": {
          "base_uri": "https://localhost:8080/"
        },
        "id": "Gh92uhrSIk8k",
        "outputId": "9e9b874f-c290-4160-afb5-60244807c9fd"
      },
      "execution_count": 6,
      "outputs": [
        {
          "output_type": "stream",
          "name": "stdout",
          "text": [
            "50\n"
          ]
        }
      ]
    },
    {
      "cell_type": "markdown",
      "source": [
        "##Q16: Create a class Animal with an abstract method sound().Create two derived classes Cow and Sheep that implement the sound() method."
      ],
      "metadata": {
        "id": "ZUBfTF-amp2H"
      }
    },
    {
      "cell_type": "code",
      "source": [
        "from abc import ABC, abstractmethod\n",
        "\n",
        "class Animal(ABC):\n",
        "    @abstractmethod\n",
        "    def sound(self):\n",
        "        pass\n",
        "\n",
        "class Cow(Animal):\n",
        "    def sound(self):\n",
        "        print(\"Moo\")\n",
        "\n",
        "class Sheep(Animal):\n",
        "    def sound(self):\n",
        "        print(\"Baa\")\n",
        "\n",
        "\n",
        "c = Cow()\n",
        "s = Sheep()\n",
        "\n",
        "c.sound()\n",
        "s.sound()\n"
      ],
      "metadata": {
        "colab": {
          "base_uri": "https://localhost:8080/"
        },
        "id": "qEVHvDXsI8gt",
        "outputId": "b6ba850e-fb71-4304-d0be-0f4e4bb1af0f"
      },
      "execution_count": 5,
      "outputs": [
        {
          "output_type": "stream",
          "name": "stdout",
          "text": [
            "Moo\n",
            "Baa\n"
          ]
        }
      ]
    },
    {
      "cell_type": "markdown",
      "source": [
        "##Q17: Create a class Book with attributes title, author, and year_published. Add a method get_book_info() that returns a formatted string with the book's details."
      ],
      "metadata": {
        "id": "MwdwU0ftms0A"
      }
    },
    {
      "cell_type": "code",
      "source": [
        "class Book:\n",
        "    def __init__(self, title, author, year_published):\n",
        "        self.title = title\n",
        "        self.author = author\n",
        "        self.year_published = year_published\n",
        "\n",
        "    def get_book_info(self):\n",
        "        return f\"'{self.title}' by {self.author}, published in {self.year_published}\"\n",
        "\n",
        "\n",
        "b = Book(\"The Alchemist\", \"Paulo Coelho\", 1988)\n",
        "print(b.get_book_info())\n"
      ],
      "metadata": {
        "colab": {
          "base_uri": "https://localhost:8080/"
        },
        "id": "6KEp6dGOJCNe",
        "outputId": "391b4a97-cd6a-4ad0-d253-174a597c275c"
      },
      "execution_count": 4,
      "outputs": [
        {
          "output_type": "stream",
          "name": "stdout",
          "text": [
            "'The Alchemist' by Paulo Coelho, published in 1988\n"
          ]
        }
      ]
    },
    {
      "cell_type": "markdown",
      "source": [
        "##Q18: Create a class House with attributes address and price. Create a derived class Mansion that adds an attribute number_of_rooms."
      ],
      "metadata": {
        "id": "40f0AJexmwM4"
      }
    },
    {
      "cell_type": "code",
      "source": [
        "class House:\n",
        "    def __init__(self, address, price):\n",
        "        self.address = address\n",
        "        self.price = price\n",
        "\n",
        "class Mansion(House):\n",
        "    def __init__(self, address, price, number_of_rooms):\n",
        "        super().__init__(address, price)\n",
        "        self.number_of_rooms = number_of_rooms\n",
        "\n",
        "\n",
        "m = Mansion(\"123 Luxury St\", 50000000, 10)\n",
        "print(m.address)\n",
        "print(m.price)\n",
        "print(m.number_of_rooms)\n"
      ],
      "metadata": {
        "colab": {
          "base_uri": "https://localhost:8080/"
        },
        "id": "wboZjk76JIGq",
        "outputId": "31f9604c-5549-420f-b8d3-45ef18b9a029"
      },
      "execution_count": 3,
      "outputs": [
        {
          "output_type": "stream",
          "name": "stdout",
          "text": [
            "123 Luxury St\n",
            "50000000\n",
            "10\n"
          ]
        }
      ]
    }
  ]
}